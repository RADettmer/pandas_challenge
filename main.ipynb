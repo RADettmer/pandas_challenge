{
 "cells": [
  {
   "cell_type": "code",
   "execution_count": 1,
   "metadata": {},
   "outputs": [],
   "source": [
    "#Dependencies and Setup - main - Heroes Of Pymoli - Randy Dettmer - 2/28/2020\n",
    "import pandas as pd"
   ]
  },
  {
   "cell_type": "code",
   "execution_count": 2,
   "metadata": {},
   "outputs": [],
   "source": [
    "#File to load - Read purchase file and store into pandas data frame\n",
    "file = \"04-Pandas_Homework_HeroesOfPymoli_Resources_purchase_data.csv\"\n",
    "df1 = pd.read_csv(file)\n",
    "#df1.head() - option to print to screen the header of the file to see the format and column names"
   ]
  },
  {
   "cell_type": "code",
   "execution_count": 3,
   "metadata": {},
   "outputs": [
    {
     "output_type": "execute_result",
     "data": {
      "text/plain": [
       "   Total Players\n",
       "0            576"
      ],
      "text/html": "<div>\n<style scoped>\n    .dataframe tbody tr th:only-of-type {\n        vertical-align: middle;\n    }\n\n    .dataframe tbody tr th {\n        vertical-align: top;\n    }\n\n    .dataframe thead th {\n        text-align: right;\n    }\n</style>\n<table border=\"1\" class=\"dataframe\">\n  <thead>\n    <tr style=\"text-align: right;\">\n      <th></th>\n      <th>Total Players</th>\n    </tr>\n  </thead>\n  <tbody>\n    <tr>\n      <th>0</th>\n      <td>576</td>\n    </tr>\n  </tbody>\n</table>\n</div>"
     },
     "metadata": {},
     "execution_count": 3
    }
   ],
   "source": [
    "#Player Count ------------------------------------------------------------------------------------------------------------------\n",
    "#determine count of SN - number of players and dispay data frame\n",
    "SN_count = len(df1[\"SN\"].value_counts())\n",
    "df2 = pd.DataFrame({\"Total Players\": [SN_count]})\n",
    "df2"
   ]
  },
  {
   "cell_type": "code",
   "execution_count": 4,
   "metadata": {},
   "outputs": [],
   "source": [
    "#Purchasing Analysis (Total) ---------------------------------------------------------------------------------------------------\n",
    "#determine number of unique items purchased\n",
    "unique_items = len(df1[\"Item ID\"].value_counts())"
   ]
  },
  {
   "cell_type": "code",
   "execution_count": 5,
   "metadata": {
    "scrolled": true
   },
   "outputs": [],
   "source": [
    "#calculate average price\n",
    "avg_price = df1[\"Price\"].mean()"
   ]
  },
  {
   "cell_type": "code",
   "execution_count": 6,
   "metadata": {},
   "outputs": [],
   "source": [
    "#calculate total number of purchases\n",
    "total_pur = len(df1[\"Purchase ID\"].value_counts())"
   ]
  },
  {
   "cell_type": "code",
   "execution_count": 7,
   "metadata": {},
   "outputs": [],
   "source": [
    "#calculate total revenue\n",
    "total_rev = df1[\"Price\"].sum()"
   ]
  },
  {
   "cell_type": "code",
   "execution_count": 8,
   "metadata": {
    "scrolled": true
   },
   "outputs": [
    {
     "output_type": "execute_result",
     "data": {
      "text/plain": [
       "   Number of Unique Items Average Price  Number of Purchases Total Revenue\n",
       "0                     183         $3.05                  780      $2379.77"
      ],
      "text/html": "<div>\n<style scoped>\n    .dataframe tbody tr th:only-of-type {\n        vertical-align: middle;\n    }\n\n    .dataframe tbody tr th {\n        vertical-align: top;\n    }\n\n    .dataframe thead th {\n        text-align: right;\n    }\n</style>\n<table border=\"1\" class=\"dataframe\">\n  <thead>\n    <tr style=\"text-align: right;\">\n      <th></th>\n      <th>Number of Unique Items</th>\n      <th>Average Price</th>\n      <th>Number of Purchases</th>\n      <th>Total Revenue</th>\n    </tr>\n  </thead>\n  <tbody>\n    <tr>\n      <th>0</th>\n      <td>183</td>\n      <td>$3.05</td>\n      <td>780</td>\n      <td>$2379.77</td>\n    </tr>\n  </tbody>\n</table>\n</div>"
     },
     "metadata": {},
     "execution_count": 8
    }
   ],
   "source": [
    "#summary of purchasing analysis totals with formating, display data frame\n",
    "df2 = pd.DataFrame({\"Number of Unique Items\": [unique_items], \"Average Price\": [avg_price], \"Number of Purchases\": [total_pur], \"Total Revenue\": [total_rev]})\n",
    "df2[\"Average Price\"] = df2[\"Average Price\"].map(\"${0:.2f}\".format)\n",
    "df2[\"Total Revenue\"] = df2[\"Total Revenue\"].map(\"${0:.2f}\".format)\n",
    "df2"
   ]
  },
  {
   "cell_type": "code",
   "execution_count": 9,
   "metadata": {
    "scrolled": true
   },
   "outputs": [],
   "source": [
    "#Gender Demographics -----------------------------------------------------------------------------------------------------------\n",
    "#calculation to determine Gender totals\n",
    "df3 = pd.DataFrame(df1.loc[:, [\"SN\", \"Gender\"]])\n",
    "df3.drop_duplicates(subset=\"SN\", keep='first', inplace=True)"
   ]
  },
  {
   "cell_type": "code",
   "execution_count": 10,
   "metadata": {
    "scrolled": false
   },
   "outputs": [],
   "source": [
    "#Gender demographics calculation\n",
    "gender_amt = df3[\"Gender\"].value_counts()\n",
    "df4 = pd.DataFrame(gender_amt)\n",
    "df4 = df4.rename(columns={\"Gender\":\"Total Count\"})"
   ]
  },
  {
   "cell_type": "code",
   "execution_count": 11,
   "metadata": {
    "scrolled": false
   },
   "outputs": [],
   "source": [
    "#calculations for percentages of players by Gender\n",
    "gender_cnt = df4[\"Total Count\"]/SN_count"
   ]
  },
  {
   "cell_type": "code",
   "execution_count": 12,
   "metadata": {},
   "outputs": [
    {
     "output_type": "execute_result",
     "data": {
      "text/plain": [
       "                       Total Count Percentage of Players\n",
       "Male                           484                84.03%\n",
       "Female                          81                14.06%\n",
       "Other / Non-Disclosed           11                 1.91%"
      ],
      "text/html": "<div>\n<style scoped>\n    .dataframe tbody tr th:only-of-type {\n        vertical-align: middle;\n    }\n\n    .dataframe tbody tr th {\n        vertical-align: top;\n    }\n\n    .dataframe thead th {\n        text-align: right;\n    }\n</style>\n<table border=\"1\" class=\"dataframe\">\n  <thead>\n    <tr style=\"text-align: right;\">\n      <th></th>\n      <th>Total Count</th>\n      <th>Percentage of Players</th>\n    </tr>\n  </thead>\n  <tbody>\n    <tr>\n      <th>Male</th>\n      <td>484</td>\n      <td>84.03%</td>\n    </tr>\n    <tr>\n      <th>Female</th>\n      <td>81</td>\n      <td>14.06%</td>\n    </tr>\n    <tr>\n      <th>Other / Non-Disclosed</th>\n      <td>11</td>\n      <td>1.91%</td>\n    </tr>\n  </tbody>\n</table>\n</div>"
     },
     "metadata": {},
     "execution_count": 12
    }
   ],
   "source": [
    "#generate data frame for purchase demographics by Gender with formating\n",
    "df4[\"Percentage of Players\"] = gender_cnt.map(\"{0:.2%}\".format)\n",
    "df4"
   ]
  },
  {
   "cell_type": "code",
   "execution_count": 13,
   "metadata": {
    "scrolled": true
   },
   "outputs": [],
   "source": [
    "#Purchasing Analysis (Gender) --------------------------------------------------------------------------------------------------\n",
    "#calculate average purchase price by Gender\n",
    "gpmean = df1.groupby(\"Gender\").Price.mean()"
   ]
  },
  {
   "cell_type": "code",
   "execution_count": 14,
   "metadata": {
    "scrolled": true
   },
   "outputs": [],
   "source": [
    "#total purchase value by Gender\n",
    "gpsum = df1.groupby(\"Gender\").Price.sum()"
   ]
  },
  {
   "cell_type": "code",
   "execution_count": 15,
   "metadata": {},
   "outputs": [],
   "source": [
    "#avg total purchase per person by Gender\n",
    "atppp = gpsum/(df4[\"Total Count\"])"
   ]
  },
  {
   "cell_type": "code",
   "execution_count": 16,
   "metadata": {
    "scrolled": false
   },
   "outputs": [
    {
     "output_type": "execute_result",
     "data": {
      "text/plain": [
       "                       Purchase Count Average Purchase Price  \\\n",
       "Male                              652                  $3.02   \n",
       "Female                            113                  $3.20   \n",
       "Other / Non-Disclosed              15                  $3.35   \n",
       "\n",
       "                      Total Purchase Value Avg Total Purchase per Person  \n",
       "Male                              $1967.64                         $4.07  \n",
       "Female                             $361.94                         $4.47  \n",
       "Other / Non-Disclosed               $50.19                         $4.56  "
      ],
      "text/html": "<div>\n<style scoped>\n    .dataframe tbody tr th:only-of-type {\n        vertical-align: middle;\n    }\n\n    .dataframe tbody tr th {\n        vertical-align: top;\n    }\n\n    .dataframe thead th {\n        text-align: right;\n    }\n</style>\n<table border=\"1\" class=\"dataframe\">\n  <thead>\n    <tr style=\"text-align: right;\">\n      <th></th>\n      <th>Purchase Count</th>\n      <th>Average Purchase Price</th>\n      <th>Total Purchase Value</th>\n      <th>Avg Total Purchase per Person</th>\n    </tr>\n  </thead>\n  <tbody>\n    <tr>\n      <th>Male</th>\n      <td>652</td>\n      <td>$3.02</td>\n      <td>$1967.64</td>\n      <td>$4.07</td>\n    </tr>\n    <tr>\n      <th>Female</th>\n      <td>113</td>\n      <td>$3.20</td>\n      <td>$361.94</td>\n      <td>$4.47</td>\n    </tr>\n    <tr>\n      <th>Other / Non-Disclosed</th>\n      <td>15</td>\n      <td>$3.35</td>\n      <td>$50.19</td>\n      <td>$4.56</td>\n    </tr>\n  </tbody>\n</table>\n</div>"
     },
     "metadata": {},
     "execution_count": 16
    }
   ],
   "source": [
    "#generate data frame with purchasing analysis Gender with formating\n",
    "gender_amt = df1[\"Gender\"].value_counts()\n",
    "df5 = pd.DataFrame(gender_amt)\n",
    "df5 = df5.rename(columns={\"Gender\":\"Purchase Count\"})\n",
    "df5[\"Average Purchase Price\"] = gpmean.map(\"${0:.2f}\".format)\n",
    "df5[\"Total Purchase Value\"] = gpsum.map(\"${0:.2f}\".format)\n",
    "df5[\"Avg Total Purchase per Person\"] = atppp.map(\"${0:.2f}\".format)\n",
    "df5"
   ]
  },
  {
   "cell_type": "code",
   "execution_count": 17,
   "metadata": {},
   "outputs": [],
   "source": [
    "#Age Demographics --------------------------------------------------------------------------------------------------------------\n",
    "#generate bins and group labels for ages within the data set\n",
    "bins = [0, 9, 14, 19, 24, 29, 34, 39, 100]\n",
    "group_labels = [\"<10\", \"10-14\", \"15-19\", \"20-24\", \"25-29\", \"30-34\", \"35-39\", \"40+\"]"
   ]
  },
  {
   "cell_type": "code",
   "execution_count": 18,
   "metadata": {
    "scrolled": true
   },
   "outputs": [],
   "source": [
    "#sort out players by age and removing duplicate players where players are = SN\n",
    "#this is to get to an accurate number of players since the data is based on purchases\n",
    "df6 = pd.DataFrame(df1.loc[:,[\"SN\", \"Age\"]])\n",
    "df6.drop_duplicates(subset=\"SN\", keep='first', inplace=True)\n",
    "df6[\"Age Range\"] = pd.cut(df6[\"Age\"], bins, labels = group_labels)"
   ]
  },
  {
   "cell_type": "code",
   "execution_count": 19,
   "metadata": {},
   "outputs": [
    {
     "output_type": "execute_result",
     "data": {
      "text/plain": [
       "           Total Count Percentage of Players\n",
       "Age Range                                   \n",
       "<10                 17                 2.95%\n",
       "10-14               22                 3.82%\n",
       "15-19              107                18.58%\n",
       "20-24              258                44.79%\n",
       "25-29               77                13.37%\n",
       "30-34               52                 9.03%\n",
       "35-39               31                 5.38%\n",
       "40+                 12                 2.08%"
      ],
      "text/html": "<div>\n<style scoped>\n    .dataframe tbody tr th:only-of-type {\n        vertical-align: middle;\n    }\n\n    .dataframe tbody tr th {\n        vertical-align: top;\n    }\n\n    .dataframe thead th {\n        text-align: right;\n    }\n</style>\n<table border=\"1\" class=\"dataframe\">\n  <thead>\n    <tr style=\"text-align: right;\">\n      <th></th>\n      <th>Total Count</th>\n      <th>Percentage of Players</th>\n    </tr>\n    <tr>\n      <th>Age Range</th>\n      <th></th>\n      <th></th>\n    </tr>\n  </thead>\n  <tbody>\n    <tr>\n      <th>&lt;10</th>\n      <td>17</td>\n      <td>2.95%</td>\n    </tr>\n    <tr>\n      <th>10-14</th>\n      <td>22</td>\n      <td>3.82%</td>\n    </tr>\n    <tr>\n      <th>15-19</th>\n      <td>107</td>\n      <td>18.58%</td>\n    </tr>\n    <tr>\n      <th>20-24</th>\n      <td>258</td>\n      <td>44.79%</td>\n    </tr>\n    <tr>\n      <th>25-29</th>\n      <td>77</td>\n      <td>13.37%</td>\n    </tr>\n    <tr>\n      <th>30-34</th>\n      <td>52</td>\n      <td>9.03%</td>\n    </tr>\n    <tr>\n      <th>35-39</th>\n      <td>31</td>\n      <td>5.38%</td>\n    </tr>\n    <tr>\n      <th>40+</th>\n      <td>12</td>\n      <td>2.08%</td>\n    </tr>\n  </tbody>\n</table>\n</div>"
     },
     "metadata": {},
     "execution_count": 19
    }
   ],
   "source": [
    "#calculating age demographics and generating formating\n",
    "agegroup = df6.groupby(\"Age Range\")\n",
    "df7 = agegroup.count()\n",
    "df8 = df7[[\"Age\"]]\n",
    "df8[\"Percentage of Players\"] = (df8[\"Age\"]/SN_count).map(\"{0:.2%}\".format)\n",
    "df8 = df8.rename(columns={\"Age\":\"Total Count\"})\n",
    "df8"
   ]
  },
  {
   "cell_type": "code",
   "execution_count": 20,
   "metadata": {
    "scrolled": true
   },
   "outputs": [],
   "source": [
    "#Purchasing Analysis (Age) -----------------------------------------------------------------------------------------------------\n",
    "#purchase analysis by age - use the same bins and group labels as above\n",
    "#sort out age by purchases\n",
    "df9 = pd.DataFrame(df1.loc[:,[\"Age\",\"Price\"]])\n",
    "df9[\"Age Range\"] = pd.cut(df9[\"Age\"], bins, labels = group_labels)"
   ]
  },
  {
   "cell_type": "code",
   "execution_count": 21,
   "metadata": {},
   "outputs": [
    {
     "output_type": "execute_result",
     "data": {
      "text/plain": [
       "           Age Average Purchase Price Total Purchase Value  \\\n",
       "Age Range                                                    \n",
       "<10         23                  $3.35               $77.13   \n",
       "10-14       28                  $2.96               $82.78   \n",
       "15-19      136                  $3.04              $412.89   \n",
       "20-24      365                  $3.05             $1114.06   \n",
       "25-29      101                  $2.90              $293.00   \n",
       "30-34       73                  $2.93              $214.00   \n",
       "35-39       41                  $3.60              $147.67   \n",
       "40+         13                  $2.94               $38.24   \n",
       "\n",
       "          Average Total Purchase Price  \n",
       "Age Range                               \n",
       "<10                              $4.54  \n",
       "10-14                            $3.76  \n",
       "15-19                            $3.86  \n",
       "20-24                            $4.32  \n",
       "25-29                            $3.81  \n",
       "30-34                            $4.12  \n",
       "35-39                            $4.76  \n",
       "40+                              $3.19  "
      ],
      "text/html": "<div>\n<style scoped>\n    .dataframe tbody tr th:only-of-type {\n        vertical-align: middle;\n    }\n\n    .dataframe tbody tr th {\n        vertical-align: top;\n    }\n\n    .dataframe thead th {\n        text-align: right;\n    }\n</style>\n<table border=\"1\" class=\"dataframe\">\n  <thead>\n    <tr style=\"text-align: right;\">\n      <th></th>\n      <th>Age</th>\n      <th>Average Purchase Price</th>\n      <th>Total Purchase Value</th>\n      <th>Average Total Purchase Price</th>\n    </tr>\n    <tr>\n      <th>Age Range</th>\n      <th></th>\n      <th></th>\n      <th></th>\n      <th></th>\n    </tr>\n  </thead>\n  <tbody>\n    <tr>\n      <th>&lt;10</th>\n      <td>23</td>\n      <td>$3.35</td>\n      <td>$77.13</td>\n      <td>$4.54</td>\n    </tr>\n    <tr>\n      <th>10-14</th>\n      <td>28</td>\n      <td>$2.96</td>\n      <td>$82.78</td>\n      <td>$3.76</td>\n    </tr>\n    <tr>\n      <th>15-19</th>\n      <td>136</td>\n      <td>$3.04</td>\n      <td>$412.89</td>\n      <td>$3.86</td>\n    </tr>\n    <tr>\n      <th>20-24</th>\n      <td>365</td>\n      <td>$3.05</td>\n      <td>$1114.06</td>\n      <td>$4.32</td>\n    </tr>\n    <tr>\n      <th>25-29</th>\n      <td>101</td>\n      <td>$2.90</td>\n      <td>$293.00</td>\n      <td>$3.81</td>\n    </tr>\n    <tr>\n      <th>30-34</th>\n      <td>73</td>\n      <td>$2.93</td>\n      <td>$214.00</td>\n      <td>$4.12</td>\n    </tr>\n    <tr>\n      <th>35-39</th>\n      <td>41</td>\n      <td>$3.60</td>\n      <td>$147.67</td>\n      <td>$4.76</td>\n    </tr>\n    <tr>\n      <th>40+</th>\n      <td>13</td>\n      <td>$2.94</td>\n      <td>$38.24</td>\n      <td>$3.19</td>\n    </tr>\n  </tbody>\n</table>\n</div>"
     },
     "metadata": {},
     "execution_count": 21
    }
   ],
   "source": [
    "#groupby stuff to collect totals and generate data frame with formating\n",
    "df10 = df9.groupby(\"Age Range\").count()\n",
    "df11 = df10[[\"Age\"]]\n",
    "df11[\"Average Purchase Price\"] = (df9.groupby(\"Age Range\").Price.mean()).map(\"${0:.2f}\".format)\n",
    "df11[\"Total Purchase Value\"] = (df9.groupby(\"Age Range\").Price.sum()).map(\"${0:.2f}\".format)\n",
    "df11[\"Average Total Purchase Price\"] = ((df9.groupby(\"Age Range\").Price.sum())/df8[\"Total Count\"]).map(\"${0:.2f}\".format)\n",
    "df11"
   ]
  },
  {
   "cell_type": "code",
   "execution_count": 22,
   "metadata": {},
   "outputs": [],
   "source": [
    "#Top Spenders ------------------------------------------------------------------------------------------------------------------\n",
    "#determine top spenders - sort on players (SN) for purchases and amounts\n",
    "#count number of purchases by SN - OK - 8\n",
    "SNPIDcnt = df1.groupby(\"SN\").count()[\"Purchase ID\"]"
   ]
  },
  {
   "cell_type": "code",
   "execution_count": 23,
   "metadata": {},
   "outputs": [],
   "source": [
    "#calculate average for number of purchases per player (SN)\n",
    "SNavpur = df1.groupby(\"SN\").mean()[\"Price\"]"
   ]
  },
  {
   "cell_type": "code",
   "execution_count": 24,
   "metadata": {},
   "outputs": [],
   "source": [
    "#calculate the total of purchases per player (SN)\n",
    "SNPsum = df1.groupby(\"SN\").sum()[\"Price\"]"
   ]
  },
  {
   "cell_type": "code",
   "execution_count": 25,
   "metadata": {},
   "outputs": [
    {
     "output_type": "execute_result",
     "data": {
      "text/plain": [
       "             Purchase Count Avg Purchase Price Total Purchase Value\n",
       "SN                                                                 \n",
       "Lisosia93                 5              $3.79               $18.96\n",
       "Iral74                    4              $3.40               $13.62\n",
       "Idastidru52               4              $3.86               $15.45\n",
       "Asur53                    3              $2.48                $7.44\n",
       "Inguron55                 3              $3.70               $11.11"
      ],
      "text/html": "<div>\n<style scoped>\n    .dataframe tbody tr th:only-of-type {\n        vertical-align: middle;\n    }\n\n    .dataframe tbody tr th {\n        vertical-align: top;\n    }\n\n    .dataframe thead th {\n        text-align: right;\n    }\n</style>\n<table border=\"1\" class=\"dataframe\">\n  <thead>\n    <tr style=\"text-align: right;\">\n      <th></th>\n      <th>Purchase Count</th>\n      <th>Avg Purchase Price</th>\n      <th>Total Purchase Value</th>\n    </tr>\n    <tr>\n      <th>SN</th>\n      <th></th>\n      <th></th>\n      <th></th>\n    </tr>\n  </thead>\n  <tbody>\n    <tr>\n      <th>Lisosia93</th>\n      <td>5</td>\n      <td>$3.79</td>\n      <td>$18.96</td>\n    </tr>\n    <tr>\n      <th>Iral74</th>\n      <td>4</td>\n      <td>$3.40</td>\n      <td>$13.62</td>\n    </tr>\n    <tr>\n      <th>Idastidru52</th>\n      <td>4</td>\n      <td>$3.86</td>\n      <td>$15.45</td>\n    </tr>\n    <tr>\n      <th>Asur53</th>\n      <td>3</td>\n      <td>$2.48</td>\n      <td>$7.44</td>\n    </tr>\n    <tr>\n      <th>Inguron55</th>\n      <td>3</td>\n      <td>$3.70</td>\n      <td>$11.11</td>\n    </tr>\n  </tbody>\n</table>\n</div>"
     },
     "metadata": {},
     "execution_count": 25
    }
   ],
   "source": [
    "#generate data frame with accumulated results with formating\n",
    "df12 = pd.DataFrame({\"Purchase Count\": SNPIDcnt, \"Avg Purchase Price\" : SNavpur, \"Total Purchase Value\" : SNPsum})\n",
    "df12[\"Avg Purchase Price\"] = df12[\"Avg Purchase Price\"].map(\"${0:.2f}\".format)\n",
    "df12[\"Total Purchase Value\"] = df12[\"Total Purchase Value\"].map(\"${0:.2f}\".format)\n",
    "df12.sort_values(\"Purchase Count\", ascending=False).head(5)"
   ]
  },
  {
   "cell_type": "code",
   "execution_count": 26,
   "metadata": {},
   "outputs": [],
   "source": [
    "#Most Popular Items ------------------------------------------------------------------------------------------------------------\n",
    "#determine most popular itmes\n",
    "#count number of purchases by Purchase ID\n",
    "Itemcnt = df1.groupby(\"Item Name\").count()[\"Purchase ID\"]"
   ]
  },
  {
   "cell_type": "code",
   "execution_count": 27,
   "metadata": {},
   "outputs": [],
   "source": [
    "#calculate Item Name Price total value\n",
    "Itemsum = df1.groupby(\"Item Name\").sum()[\"Price\"]"
   ]
  },
  {
   "cell_type": "code",
   "execution_count": 28,
   "metadata": {
    "scrolled": true
   },
   "outputs": [],
   "source": [
    "#calculate each individual item price by dividing item sum by item count\n",
    "Itemprice = Itemsum/Itemcnt"
   ]
  },
  {
   "cell_type": "code",
   "execution_count": 29,
   "metadata": {},
   "outputs": [
    {
     "output_type": "execute_result",
     "data": {
      "text/plain": [
       "                                              Purchase Count Item Price  \\\n",
       "Item Name                                                                 \n",
       "Final Critic                                              13      $4.61   \n",
       "Oathbreaker, Last Hope of the Breaking Storm              12      $4.23   \n",
       "Persuasion                                                 9      $3.22   \n",
       "Nirvana                                                    9      $4.90   \n",
       "Extraction, Quickblade Of Trembling Hands                  9      $3.53   \n",
       "\n",
       "                                             Total Purchase Value  \n",
       "Item Name                                                          \n",
       "Final Critic                                               $59.99  \n",
       "Oathbreaker, Last Hope of the Breaking Storm               $50.76  \n",
       "Persuasion                                                 $28.99  \n",
       "Nirvana                                                    $44.10  \n",
       "Extraction, Quickblade Of Trembling Hands                  $31.77  "
      ],
      "text/html": "<div>\n<style scoped>\n    .dataframe tbody tr th:only-of-type {\n        vertical-align: middle;\n    }\n\n    .dataframe tbody tr th {\n        vertical-align: top;\n    }\n\n    .dataframe thead th {\n        text-align: right;\n    }\n</style>\n<table border=\"1\" class=\"dataframe\">\n  <thead>\n    <tr style=\"text-align: right;\">\n      <th></th>\n      <th>Purchase Count</th>\n      <th>Item Price</th>\n      <th>Total Purchase Value</th>\n    </tr>\n    <tr>\n      <th>Item Name</th>\n      <th></th>\n      <th></th>\n      <th></th>\n    </tr>\n  </thead>\n  <tbody>\n    <tr>\n      <th>Final Critic</th>\n      <td>13</td>\n      <td>$4.61</td>\n      <td>$59.99</td>\n    </tr>\n    <tr>\n      <th>Oathbreaker, Last Hope of the Breaking Storm</th>\n      <td>12</td>\n      <td>$4.23</td>\n      <td>$50.76</td>\n    </tr>\n    <tr>\n      <th>Persuasion</th>\n      <td>9</td>\n      <td>$3.22</td>\n      <td>$28.99</td>\n    </tr>\n    <tr>\n      <th>Nirvana</th>\n      <td>9</td>\n      <td>$4.90</td>\n      <td>$44.10</td>\n    </tr>\n    <tr>\n      <th>Extraction, Quickblade Of Trembling Hands</th>\n      <td>9</td>\n      <td>$3.53</td>\n      <td>$31.77</td>\n    </tr>\n  </tbody>\n</table>\n</div>"
     },
     "metadata": {},
     "execution_count": 29
    }
   ],
   "source": [
    "#generate data frame with accumulated results with formating\n",
    "df13 = pd.DataFrame({\"Purchase Count\": Itemcnt, \"Item Price\" : Itemprice, \"Total Purchase Value\" : Itemsum})\n",
    "df13[\"Item Price\"] = df13[\"Item Price\"].map(\"${0:.2f}\".format)\n",
    "df13[\"Total Purchase Value\"] = df13[\"Total Purchase Value\"].map(\"${0:.2f}\".format)\n",
    "df13.sort_values(\"Purchase Count\", ascending=False).head(5)"
   ]
  },
  {
   "cell_type": "code",
   "execution_count": 30,
   "metadata": {
    "scrolled": false
   },
   "outputs": [
    {
     "output_type": "execute_result",
     "data": {
      "text/plain": [
       "                                   Purchase Count Item Price  \\\n",
       "Item Name                                                      \n",
       "Stormfury Mace                                  2      $4.99   \n",
       "Chaos, Ender of the End                         5      $1.98   \n",
       "Stormfury Longsword                             2      $4.93   \n",
       "The Void, Vengeance of Dark Magic               4      $2.37   \n",
       "Frenzied Scimitar                               6      $1.56   \n",
       "\n",
       "                                  Total Purchase Value  \n",
       "Item Name                                               \n",
       "Stormfury Mace                                   $9.98  \n",
       "Chaos, Ender of the End                          $9.90  \n",
       "Stormfury Longsword                              $9.86  \n",
       "The Void, Vengeance of Dark Magic                $9.48  \n",
       "Frenzied Scimitar                                $9.36  "
      ],
      "text/html": "<div>\n<style scoped>\n    .dataframe tbody tr th:only-of-type {\n        vertical-align: middle;\n    }\n\n    .dataframe tbody tr th {\n        vertical-align: top;\n    }\n\n    .dataframe thead th {\n        text-align: right;\n    }\n</style>\n<table border=\"1\" class=\"dataframe\">\n  <thead>\n    <tr style=\"text-align: right;\">\n      <th></th>\n      <th>Purchase Count</th>\n      <th>Item Price</th>\n      <th>Total Purchase Value</th>\n    </tr>\n    <tr>\n      <th>Item Name</th>\n      <th></th>\n      <th></th>\n      <th></th>\n    </tr>\n  </thead>\n  <tbody>\n    <tr>\n      <th>Stormfury Mace</th>\n      <td>2</td>\n      <td>$4.99</td>\n      <td>$9.98</td>\n    </tr>\n    <tr>\n      <th>Chaos, Ender of the End</th>\n      <td>5</td>\n      <td>$1.98</td>\n      <td>$9.90</td>\n    </tr>\n    <tr>\n      <th>Stormfury Longsword</th>\n      <td>2</td>\n      <td>$4.93</td>\n      <td>$9.86</td>\n    </tr>\n    <tr>\n      <th>The Void, Vengeance of Dark Magic</th>\n      <td>4</td>\n      <td>$2.37</td>\n      <td>$9.48</td>\n    </tr>\n    <tr>\n      <th>Frenzied Scimitar</th>\n      <td>6</td>\n      <td>$1.56</td>\n      <td>$9.36</td>\n    </tr>\n  </tbody>\n</table>\n</div>"
     },
     "metadata": {},
     "execution_count": 30
    }
   ],
   "source": [
    "#Most Profitable Items ---------------------------------------------------------------------------------------------------------\n",
    "#Sort the above data frame by Total Purchase Value in descending order\n",
    "#Initiate sort of prior data frame by Total Value, descending\n",
    "df13.sort_values(\"Total Purchase Value\", ascending=False).head(5)"
   ]
  }
 ],
 "metadata": {
  "kernelspec": {
   "display_name": "Python 3.7.6 64-bit ('PythonData': conda)",
   "language": "python",
   "name": "python37664bitpythondatacondab73bfd16082e40c58c05a61ec360665f"
  },
  "language_info": {
   "codemirror_mode": {
    "name": "ipython",
    "version": 3
   },
   "file_extension": ".py",
   "mimetype": "text/x-python",
   "name": "python",
   "nbconvert_exporter": "python",
   "pygments_lexer": "ipython3",
   "version": "3.7.9-final"
  }
 },
 "nbformat": 4,
 "nbformat_minor": 2
}